{
 "cells": [
  {
   "cell_type": "code",
   "execution_count": 3,
   "metadata": {},
   "outputs": [
    {
     "name": "stdout",
     "output_type": "stream",
     "text": [
      "hello\n"
     ]
    }
   ],
   "source": [
    "print (\"hello\")"
   ]
  },
  {
   "cell_type": "code",
   "execution_count": 4,
   "metadata": {},
   "outputs": [
    {
     "name": "stdout",
     "output_type": "stream",
     "text": [
      "[[ 1  0]\n",
      " [ 0  1]\n",
      " [ 0 -1]\n",
      " [-1  0]\n",
      " [ 0  2]\n",
      " [ 0 -2]\n",
      " [-2  0]]\n",
      "[[-1]\n",
      " [-1]\n",
      " [-1]\n",
      " [ 1]\n",
      " [ 1]\n",
      " [ 1]\n",
      " [ 1]]\n"
     ]
    }
   ],
   "source": [
    "import numpy as np\n",
    "X=np.array([[1,0],[0,1],[0,-1],[-1,0],[0,2],[0,-2],[-2,0]])\n",
    "print (X)\n",
    "Y=np.array([-1,-1,-1,1,1,1,1]).reshape((7,1))\n",
    "print (Y)"
   ]
  },
  {
   "cell_type": "code",
   "execution_count": 5,
   "metadata": {},
   "outputs": [
    {
     "data": {
      "text/plain": [
       "array([[-1, -1, -1,  1,  1,  1,  1]])"
      ]
     },
     "execution_count": 5,
     "metadata": {},
     "output_type": "execute_result"
    }
   ],
   "source": [
    "np.transpose(Y)"
   ]
  },
  {
   "cell_type": "code",
   "execution_count": 25,
   "metadata": {},
   "outputs": [
    {
     "name": "stdout",
     "output_type": "stream",
     "text": [
      "[[ 1  1  1 -1 -1 -1 -1]\n",
      " [ 1  1  1 -1 -1 -1 -1]\n",
      " [ 1  1  1 -1 -1 -1 -1]\n",
      " [-1 -1 -1  1  1  1  1]\n",
      " [-1 -1 -1  1  1  1  1]\n",
      " [-1 -1 -1  1  1  1  1]\n",
      " [-1 -1 -1  1  1  1  1]]\n"
     ]
    }
   ],
   "source": [
    "Ytemp=Y*np.transpose(Y)\n",
    "print (Ytemp)"
   ]
  },
  {
   "cell_type": "code",
   "execution_count": 7,
   "metadata": {},
   "outputs": [
    {
     "name": "stdout",
     "output_type": "stream",
     "text": [
      "[[ 1  0  0 -1  0  0 -2]\n",
      " [ 0  1 -1  0  2 -2  0]\n",
      " [ 0 -1  1  0 -2  2  0]\n",
      " [-1  0  0  1  0  0  2]\n",
      " [ 0  2 -2  0  4 -4  0]\n",
      " [ 0 -2  2  0 -4  4  0]\n",
      " [-2  0  0  2  0  0  4]]\n"
     ]
    }
   ],
   "source": [
    "Xtemp=np.dot(X,np.transpose(X))\n",
    "print (Xtemp)"
   ]
  },
  {
   "cell_type": "code",
   "execution_count": 8,
   "metadata": {},
   "outputs": [
    {
     "name": "stdout",
     "output_type": "stream",
     "text": [
      "[[ 2  1  1  0  1  1 -1]\n",
      " [ 1  2  0  1  3 -1  1]\n",
      " [ 1  0  2  1 -1  3  1]\n",
      " [ 0  1  1  2  1  1  3]\n",
      " [ 1  3 -1  1  5 -3  1]\n",
      " [ 1 -1  3  1 -3  5  1]\n",
      " [-1  1  1  3  1  1  5]]\n"
     ]
    }
   ],
   "source": [
    "Xtemp=Xtemp+1\n",
    "print (Xtemp)"
   ]
  },
  {
   "cell_type": "code",
   "execution_count": 9,
   "metadata": {},
   "outputs": [
    {
     "name": "stdout",
     "output_type": "stream",
     "text": [
      "[[ 4  1  1  0  1  1  1]\n",
      " [ 1  4  0  1  9  1  1]\n",
      " [ 1  0  4  1  1  9  1]\n",
      " [ 0  1  1  4  1  1  9]\n",
      " [ 1  9  1  1 25  9  1]\n",
      " [ 1  1  9  1  9 25  1]\n",
      " [ 1  1  1  9  1  1 25]]\n"
     ]
    }
   ],
   "source": [
    "Xtemp=Xtemp*Xtemp\n",
    "print (Xtemp)"
   ]
  },
  {
   "cell_type": "code",
   "execution_count": 10,
   "metadata": {
    "scrolled": true
   },
   "outputs": [
    {
     "name": "stdout",
     "output_type": "stream",
     "text": [
      "[[ 4  1  1  0 -1 -1 -1]\n",
      " [ 1  4  0 -1 -9 -1 -1]\n",
      " [ 1  0  4 -1 -1 -9 -1]\n",
      " [ 0 -1 -1  4  1  1  9]\n",
      " [-1 -9 -1  1 25  9  1]\n",
      " [-1 -1 -9  1  9 25  1]\n",
      " [-1 -1 -1  9  1  1 25]]\n"
     ]
    }
   ],
   "source": [
    "P=Ytemp*Xtemp\n",
    "print (P)"
   ]
  },
  {
   "cell_type": "code",
   "execution_count": 11,
   "metadata": {},
   "outputs": [
    {
     "name": "stdout",
     "output_type": "stream",
     "text": [
      "[[-1.]\n",
      " [-1.]\n",
      " [-1.]\n",
      " [-1.]\n",
      " [-1.]\n",
      " [-1.]\n",
      " [-1.]]\n"
     ]
    }
   ],
   "source": [
    "q=-np.ones((7,1))\n",
    "print (q)"
   ]
  },
  {
   "cell_type": "code",
   "execution_count": 12,
   "metadata": {},
   "outputs": [
    {
     "name": "stdout",
     "output_type": "stream",
     "text": [
      "[[-1 -1 -1  1  1  1  1]]\n"
     ]
    }
   ],
   "source": [
    "A=Y.reshape((1,7))\n",
    "print (A)"
   ]
  },
  {
   "cell_type": "code",
   "execution_count": 13,
   "metadata": {
    "collapsed": true
   },
   "outputs": [],
   "source": [
    "b=0"
   ]
  },
  {
   "cell_type": "code",
   "execution_count": 14,
   "metadata": {},
   "outputs": [
    {
     "name": "stdout",
     "output_type": "stream",
     "text": [
      "[[ 0.]\n",
      " [ 0.]\n",
      " [ 0.]\n",
      " [ 0.]\n",
      " [ 0.]\n",
      " [ 0.]\n",
      " [ 0.]]\n"
     ]
    }
   ],
   "source": [
    "h=np.zeros((7,1))\n",
    "print (h)"
   ]
  },
  {
   "cell_type": "code",
   "execution_count": 15,
   "metadata": {
    "collapsed": true
   },
   "outputs": [],
   "source": [
    "G=-np.eye(7)"
   ]
  },
  {
   "cell_type": "code",
   "execution_count": 16,
   "metadata": {},
   "outputs": [
    {
     "name": "stdout",
     "output_type": "stream",
     "text": [
      "[[ 4  1  1  0 -1 -1 -1]\n",
      " [ 1  4  0 -1 -9 -1 -1]\n",
      " [ 1  0  4 -1 -1 -9 -1]\n",
      " [ 0 -1 -1  4  1  1  9]\n",
      " [-1 -9 -1  1 25  9  1]\n",
      " [-1 -1 -9  1  9 25  1]\n",
      " [-1 -1 -1  9  1  1 25]]\n",
      "[[-1.]\n",
      " [-1.]\n",
      " [-1.]\n",
      " [-1.]\n",
      " [-1.]\n",
      " [-1.]\n",
      " [-1.]]\n",
      "[[-1. -0. -0. -0. -0. -0. -0.]\n",
      " [-0. -1. -0. -0. -0. -0. -0.]\n",
      " [-0. -0. -1. -0. -0. -0. -0.]\n",
      " [-0. -0. -0. -1. -0. -0. -0.]\n",
      " [-0. -0. -0. -0. -1. -0. -0.]\n",
      " [-0. -0. -0. -0. -0. -1. -0.]\n",
      " [-0. -0. -0. -0. -0. -0. -1.]]\n",
      "[[ 0.]\n",
      " [ 0.]\n",
      " [ 0.]\n",
      " [ 0.]\n",
      " [ 0.]\n",
      " [ 0.]\n",
      " [ 0.]]\n",
      "[[-1 -1 -1  1  1  1  1]]\n",
      "0\n"
     ]
    }
   ],
   "source": [
    "print (P)\n",
    "print (q)\n",
    "print (G)\n",
    "print (h)\n",
    "print (A)\n",
    "print (b)"
   ]
  },
  {
   "cell_type": "code",
   "execution_count": 30,
   "metadata": {},
   "outputs": [
    {
     "name": "stdout",
     "output_type": "stream",
     "text": [
      "[ 4.00e+00  1.00e+00  1.00e+00  0.00e+00 -1.00e+00 -1.00e+00 -1.00e+00]\n",
      "[ 1.00e+00  4.00e+00  0.00e+00 -1.00e+00 -9.00e+00 -1.00e+00 -1.00e+00]\n",
      "[ 1.00e+00  0.00e+00  4.00e+00 -1.00e+00 -1.00e+00 -9.00e+00 -1.00e+00]\n",
      "[ 0.00e+00 -1.00e+00 -1.00e+00  4.00e+00  1.00e+00  1.00e+00  9.00e+00]\n",
      "[-1.00e+00 -9.00e+00 -1.00e+00  1.00e+00  2.50e+01  9.00e+00  1.00e+00]\n",
      "[-1.00e+00 -1.00e+00 -9.00e+00  1.00e+00  9.00e+00  2.50e+01  1.00e+00]\n",
      "[-1.00e+00 -1.00e+00 -1.00e+00  9.00e+00  1.00e+00  1.00e+00  2.50e+01]\n",
      "\n",
      "[-1.00e+00]\n",
      "[-1.00e+00]\n",
      "[-1.00e+00]\n",
      "[-1.00e+00]\n",
      "[-1.00e+00]\n",
      "[-1.00e+00]\n",
      "[-1.00e+00]\n",
      "\n",
      "[-1.00e+00 -0.00e+00 -0.00e+00 -0.00e+00 -0.00e+00 -0.00e+00 -0.00e+00]\n",
      "[-0.00e+00 -1.00e+00 -0.00e+00 -0.00e+00 -0.00e+00 -0.00e+00 -0.00e+00]\n",
      "[-0.00e+00 -0.00e+00 -1.00e+00 -0.00e+00 -0.00e+00 -0.00e+00 -0.00e+00]\n",
      "[-0.00e+00 -0.00e+00 -0.00e+00 -1.00e+00 -0.00e+00 -0.00e+00 -0.00e+00]\n",
      "[-0.00e+00 -0.00e+00 -0.00e+00 -0.00e+00 -1.00e+00 -0.00e+00 -0.00e+00]\n",
      "[-0.00e+00 -0.00e+00 -0.00e+00 -0.00e+00 -0.00e+00 -1.00e+00 -0.00e+00]\n",
      "[-0.00e+00 -0.00e+00 -0.00e+00 -0.00e+00 -0.00e+00 -0.00e+00 -1.00e+00]\n",
      "\n",
      "[ 0.00e+00]\n",
      "[ 0.00e+00]\n",
      "[ 0.00e+00]\n",
      "[ 0.00e+00]\n",
      "[ 0.00e+00]\n",
      "[ 0.00e+00]\n",
      "[ 0.00e+00]\n",
      "\n",
      "[-1.00e+00 -1.00e+00 -1.00e+00  1.00e+00  1.00e+00  1.00e+00  1.00e+00]\n",
      "\n",
      "[ 0.00e+00]\n",
      "\n",
      "d\n"
     ]
    }
   ],
   "source": [
    "from cvxopt import solvers,matrix\n",
    "P=matrix(P,tc='d')\n",
    "q=matrix(q)\n",
    "G=matrix(G)\n",
    "h=matrix(h)\n",
    "A=matrix(A,tc='d')\n",
    "b=matrix(b,tc='d')     #这个之前总是说这个‘d'的问题，加个tc就好了\n",
    "print (P)\n",
    "print (q)\n",
    "print (G)\n",
    "print (h)\n",
    "print (A)\n",
    "print (b)\n",
    "print (P.typecode)"
   ]
  },
  {
   "cell_type": "code",
   "execution_count": 49,
   "metadata": {},
   "outputs": [
    {
     "name": "stdout",
     "output_type": "stream",
     "text": [
      "     pcost       dcost       gap    pres   dres\n",
      " 0: -2.0644e+00 -4.5383e+00  2e+01  3e+00  2e+00\n",
      " 1: -3.0994e+00 -4.4384e+00  5e+00  1e+00  6e-01\n",
      " 2: -1.2189e+00 -2.0952e+00  9e-01  3e-16  1e-14\n",
      " 3: -1.3986e+00 -1.4261e+00  3e-02  4e-16  8e-16\n",
      " 4: -1.4073e+00 -1.4076e+00  3e-04  2e-16  1e-15\n",
      " 5: -1.4074e+00 -1.4074e+00  3e-06  3e-16  1e-15\n",
      " 6: -1.4074e+00 -1.4074e+00  3e-08  2e-16  1e-15\n",
      "Optimal solution found.\n",
      "[ 4.32e-09]\n",
      "[ 7.04e-01]\n",
      "[ 7.04e-01]\n",
      "[ 8.89e-01]\n",
      "[ 2.59e-01]\n",
      "[ 2.59e-01]\n",
      "[ 5.27e-10]\n",
      "\n"
     ]
    }
   ],
   "source": [
    "sol=solvers.qp(P,q,G,h,A,b)\n",
    "print (sol['x'])   #得到的是alpha"
   ]
  },
  {
   "cell_type": "code",
   "execution_count": 35,
   "metadata": {},
   "outputs": [
    {
     "data": {
      "text/plain": [
       "array([[ 1,  0],\n",
       "       [ 0,  1],\n",
       "       [ 0, -1],\n",
       "       [-1,  0],\n",
       "       [ 0,  2],\n",
       "       [ 0, -2],\n",
       "       [-2,  0]])"
      ]
     },
     "execution_count": 35,
     "metadata": {},
     "output_type": "execute_result"
    }
   ],
   "source": [
    "X"
   ]
  },
  {
   "cell_type": "code",
   "execution_count": 50,
   "metadata": {},
   "outputs": [
    {
     "data": {
      "text/plain": [
       "array([[ 1,  0],\n",
       "       [ 0,  1],\n",
       "       [ 0, -1],\n",
       "       [-1,  0],\n",
       "       [ 0,  2],\n",
       "       [ 0, -2],\n",
       "       [-2,  0]])"
      ]
     },
     "execution_count": 50,
     "metadata": {},
     "output_type": "execute_result"
    }
   ],
   "source": [
    "X"
   ]
  },
  {
   "cell_type": "code",
   "execution_count": 51,
   "metadata": {
    "collapsed": true
   },
   "outputs": [],
   "source": [
    "Xt=np.dot(np.array([0,-2]),np.transpose(X))+1"
   ]
  },
  {
   "cell_type": "code",
   "execution_count": 52,
   "metadata": {},
   "outputs": [
    {
     "data": {
      "text/plain": [
       "array([ 1,  1,  9,  1,  9, 25,  1])"
      ]
     },
     "execution_count": 52,
     "metadata": {},
     "output_type": "execute_result"
    }
   ],
   "source": [
    "Xt=Xt*Xt\n",
    "Xt"
   ]
  },
  {
   "cell_type": "code",
   "execution_count": 53,
   "metadata": {},
   "outputs": [
    {
     "data": {
      "text/plain": [
       "array([-1.66666669])"
      ]
     },
     "execution_count": 53,
     "metadata": {},
     "output_type": "execute_result"
    }
   ],
   "source": [
    "signb=1-np.dot(Xt,sol['x']*Y)\n",
    "signb"
   ]
  },
  {
   "cell_type": "code",
   "execution_count": 61,
   "metadata": {},
   "outputs": [
    {
     "data": {
      "text/plain": [
       "array([[ 1., -2.],\n",
       "       [ 4., -5.],\n",
       "       [ 4., -1.],\n",
       "       [ 5., -2.],\n",
       "       [ 7., -7.],\n",
       "       [ 7.,  1.],\n",
       "       [ 7.,  1.]])"
      ]
     },
     "execution_count": 61,
     "metadata": {},
     "output_type": "execute_result"
    }
   ],
   "source": [
    "#以上为二次规划+核函数解的非线性对偶问题（弄成对偶问题的形式，线性规划解alpha，用核函数解），这个不知道对不对，没有跟别人对上。这个如果错了，就是二次规划的形式没拆对，PQGHAB没写对\n",
    "#下面用二次规划解非线性问题（x-->z直接用最基本的形式算）\n",
    "Z1=X[:,1]*X[:,1]-2*X[:,0]+3\n",
    "Z2=X[:,0]*X[:,0]-2*X[:,1]-3\n",
    "Z=np.zeros((7,2))\n",
    "Z[:,0]=Z1\n",
    "Z[:,1]=Z2\n",
    "Z"
   ]
  },
  {
   "cell_type": "code",
   "execution_count": 70,
   "metadata": {},
   "outputs": [
    {
     "name": "stdout",
     "output_type": "stream",
     "text": [
      "     pcost       dcost       gap    pres   dres\n",
      " 0:  7.3883e-02  5.0898e+00  2e+01  2e+00  2e+01\n",
      " 1:  6.5828e-01  2.5253e+00  4e+00  6e-01  8e+00\n",
      " 2:  2.4742e+00  3.7532e-01  2e+00  2e-15  4e-12\n",
      " 3:  2.0739e+00  1.9347e+00  1e-01  3e-15  2e-13\n",
      " 4:  2.0007e+00  1.9993e+00  1e-03  9e-16  5e-14\n",
      " 5:  2.0000e+00  2.0000e+00  1e-05  2e-15  5e-14\n",
      " 6:  2.0000e+00  2.0000e+00  1e-07  9e-16  2e-14\n",
      "Optimal solution found.\n",
      "[ 2.00e+00]\n",
      "[-2.04e-10]\n",
      "[-9.00e+00]\n",
      "\n"
     ]
    }
   ],
   "source": [
    "P=matrix([[1,0,0],[0,1,0],[0,0,0]],tc='d')\n",
    "q=matrix(np.zeros((3,1)),tc='d')\n",
    "G=np.zeros((7,3))\n",
    "G[:,0:2]=Z\n",
    "G[:,2]=1\n",
    "G=matrix(-Y*G)\n",
    "h=matrix(-np.ones((7,1)))\n",
    "sol=solvers.qp(P,q,G,h)\n",
    "print (sol['x'])     #w1，w2,b,相对z说的"
   ]
  },
  {
   "cell_type": "code",
   "execution_count": 71,
   "metadata": {},
   "outputs": [
    {
     "name": "stderr",
     "output_type": "stream",
     "text": [
      "F:\\Anaconda3\\lib\\site-packages\\sklearn\\utils\\validation.py:578: DataConversionWarning: A column-vector y was passed when a 1d array was expected. Please change the shape of y to (n_samples, ), for example using ravel().\n",
      "  y = column_or_1d(y, warn=True)\n"
     ]
    },
    {
     "data": {
      "text/plain": [
       "SVC(C=1000000, cache_size=200, class_weight=None, coef0=1,\n",
       "  decision_function_shape='ovr', degree=2, gamma=1, kernel='poly',\n",
       "  max_iter=-1, probability=False, random_state=None, shrinking=True,\n",
       "  tol=0.001, verbose=False)"
      ]
     },
     "execution_count": 71,
     "metadata": {},
     "output_type": "execute_result"
    }
   ],
   "source": [
    "#下面直接调库解用核函数的，不用二次规划。库真的是解放人类......\n",
    "#用python的scikit learn\n",
    "from sklearn import svm\n",
    "clf=svm.SVC(C=1000000,kernel='poly',degree=2,gamma=1,coef0=1)\n",
    "clf.fit(X,Y)"
   ]
  },
  {
   "cell_type": "code",
   "execution_count": 72,
   "metadata": {},
   "outputs": [
    {
     "data": {
      "text/plain": [
       "array([[ 0.,  1.],\n",
       "       [ 0., -1.],\n",
       "       [-1.,  0.],\n",
       "       [ 0.,  2.],\n",
       "       [ 0., -2.]])"
      ]
     },
     "execution_count": 72,
     "metadata": {},
     "output_type": "execute_result"
    }
   ],
   "source": [
    "clf.support_vectors_   #支持向量都是谁"
   ]
  },
  {
   "cell_type": "code",
   "execution_count": 73,
   "metadata": {},
   "outputs": [
    {
     "data": {
      "text/plain": [
       "array([[-0.59647182, -0.81065085,  0.8887034 ,  0.20566488,  0.31275439]])"
      ]
     },
     "execution_count": 73,
     "metadata": {},
     "output_type": "execute_result"
    }
   ],
   "source": [
    "clf.dual_coef_   #alpha*y是多少"
   ]
  },
  {
   "cell_type": "code",
   "execution_count": 74,
   "metadata": {},
   "outputs": [
    {
     "data": {
      "text/plain": [
       "array([1, 2, 3, 4, 5])"
      ]
     },
     "execution_count": 74,
     "metadata": {},
     "output_type": "execute_result"
    }
   ],
   "source": [
    "clf.support_   #支持向量的序号"
   ]
  },
  {
   "cell_type": "code",
   "execution_count": 77,
   "metadata": {},
   "outputs": [
    {
     "data": {
      "text/plain": [
       "array([[-1],\n",
       "       [-1],\n",
       "       [ 1],\n",
       "       [ 1],\n",
       "       [ 1]])"
      ]
     },
     "execution_count": 77,
     "metadata": {},
     "output_type": "execute_result"
    }
   ],
   "source": [
    "Y[clf.support_]"
   ]
  },
  {
   "cell_type": "code",
   "execution_count": 78,
   "metadata": {},
   "outputs": [
    {
     "data": {
      "text/plain": [
       "array([[ 0.59647182,  0.81065085,  0.8887034 ,  0.20566488,  0.31275439]])"
      ]
     },
     "execution_count": 78,
     "metadata": {},
     "output_type": "execute_result"
    }
   ],
   "source": [
    "alpha=clf.dual_coef_/Y[clf.support_].reshape(1,5)    #这个得到的是alpha\n",
    "alpha"
   ]
  },
  {
   "cell_type": "code",
   "execution_count": 79,
   "metadata": {},
   "outputs": [
    {
     "data": {
      "text/plain": [
       "array([-1.66633088])"
      ]
     },
     "execution_count": 79,
     "metadata": {},
     "output_type": "execute_result"
    }
   ],
   "source": [
    "clf.intercept_    #b的值，分类器中的常数项"
   ]
  },
  {
   "cell_type": "code",
   "execution_count": null,
   "metadata": {
    "collapsed": true
   },
   "outputs": [],
   "source": []
  }
 ],
 "metadata": {
  "kernelspec": {
   "display_name": "Python 3",
   "language": "python",
   "name": "python3"
  },
  "language_info": {
   "codemirror_mode": {
    "name": "ipython",
    "version": 3
   },
   "file_extension": ".py",
   "mimetype": "text/x-python",
   "name": "python",
   "nbconvert_exporter": "python",
   "pygments_lexer": "ipython3",
   "version": "3.6.3"
  }
 },
 "nbformat": 4,
 "nbformat_minor": 1
}
